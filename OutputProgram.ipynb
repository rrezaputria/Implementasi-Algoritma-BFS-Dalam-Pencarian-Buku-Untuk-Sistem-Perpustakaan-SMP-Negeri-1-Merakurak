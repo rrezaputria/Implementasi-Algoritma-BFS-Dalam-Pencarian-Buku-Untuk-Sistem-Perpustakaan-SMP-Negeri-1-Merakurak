{
 "cells": [
  {
   "cell_type": "code",
   "execution_count": null,
   "id": "88a48a5c-fb37-4bbc-9ee4-82bf515f78e9",
   "metadata": {},
   "outputs": [],
   "source": [
    "!python App.py"
   ]
  }
 ],
 "metadata": {
  "kernelspec": {
   "display_name": "Python 3 (ipykernel)",
   "language": "python",
   "name": "python3"
  },
  "language_info": {
   "codemirror_mode": {
    "name": "ipython",
    "version": 3
   },
   "file_extension": ".py",
   "mimetype": "text/x-python",
   "name": "python",
   "nbconvert_exporter": "python",
   "pygments_lexer": "ipython3",
   "version": "3.9.12"
  }
 },
 "nbformat": 4,
 "nbformat_minor": 5
}
